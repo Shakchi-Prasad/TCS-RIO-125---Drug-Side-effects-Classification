{
  "cells": [
    {
      "cell_type": "markdown",
      "metadata": {
        "id": "view-in-github",
        "colab_type": "text"
      },
      "source": [
        "<a href=\"https://colab.research.google.com/github/Shakchi-Prasad/TCS-RIO-125---Drug-Side-effects-Classification/blob/main/Side_effects_classification.ipynb\" target=\"_parent\"><img src=\"https://colab.research.google.com/assets/colab-badge.svg\" alt=\"Open In Colab\"/></a>"
      ]
    },
    {
      "cell_type": "code",
      "execution_count": 1,
      "metadata": {
        "id": "X5LH0_an7bSg"
      },
      "outputs": [],
      "source": [
        "import pandas as pd\n",
        "import numpy as np\n",
        "\n",
        "from sklearn.svm import SVC #support vector classifier\n",
        "from sklearn.ensemble import RandomForestClassifier\n",
        "from sklearn.model_selection import train_test_split\n",
        "from sklearn.preprocessing import StandardScaler\n",
        "from sklearn.metrics import classification_report\n",
        "\n",
        "import matplotlib.pyplot as plt"
      ]
    },
    {
      "cell_type": "code",
      "execution_count": null,
      "metadata": {
        "id": "jNVacqL-7bSj"
      },
      "outputs": [],
      "source": [
        "df =pd.read_csv('drug-dataset.csv').drop(columns=['Unnamed: 0'])\n",
        "df.head()"
      ]
    },
    {
      "cell_type": "code",
      "execution_count": null,
      "metadata": {
        "id": "0XDSc2yc7bSl"
      },
      "outputs": [],
      "source": [
        "df.isnull().sum()"
      ]
    },
    {
      "cell_type": "code",
      "execution_count": 4,
      "metadata": {
        "id": "odl0fvhY7bSl"
      },
      "outputs": [],
      "source": [
        "df.dropna(inplace=True)"
      ]
    },
    {
      "cell_type": "code",
      "execution_count": 5,
      "metadata": {
        "colab": {
          "base_uri": "https://localhost:8080/"
        },
        "id": "uYw7xEuq7bSm",
        "outputId": "a62e6b23-c68f-482f-f9ce-24c4543c8359"
      },
      "outputs": [
        {
          "output_type": "execute_result",
          "data": {
            "text/plain": [
              "(3106, 5)"
            ]
          },
          "metadata": {},
          "execution_count": 5
        }
      ],
      "source": [
        "df.shape"
      ]
    },
    {
      "cell_type": "code",
      "execution_count": 6,
      "metadata": {
        "colab": {
          "base_uri": "https://localhost:8080/"
        },
        "id": "gg2W92Pp7bSm",
        "outputId": "627671d2-5638-4f85-cd76-ed1c5ffbc89d"
      },
      "outputs": [
        {
          "output_type": "execute_result",
          "data": {
            "text/plain": [
              "<bound method NDFrame.describe of            urlDrugName  rating           effectiveness  \\\n",
              "0            enalapril       4        Highly Effective   \n",
              "1     ortho-tri-cyclen       1        Highly Effective   \n",
              "2              ponstel      10        Highly Effective   \n",
              "3             prilosec       3    Marginally Effective   \n",
              "4               lyrica       2    Marginally Effective   \n",
              "...                ...     ...                     ...   \n",
              "3102           vyvanse      10        Highly Effective   \n",
              "3103            zoloft       1             Ineffective   \n",
              "3104           climara       2    Marginally Effective   \n",
              "3105         trileptal       8  Considerably Effective   \n",
              "3106          micardis       4    Moderately Effective   \n",
              "\n",
              "                                   condition                    sideEffects  \n",
              "0     management of congestive heart failure              Mild Side Effects  \n",
              "1                           birth prevention            Severe Side Effects  \n",
              "2                           menstrual cramps                No Side Effects  \n",
              "3                                acid reflux              Mild Side Effects  \n",
              "4                               fibromyalgia            Severe Side Effects  \n",
              "...                                      ...                            ...  \n",
              "3102                                    adhd              Mild Side Effects  \n",
              "3103                              depression  Extremely Severe Side Effects  \n",
              "3104                       total hysterctomy          Moderate Side Effects  \n",
              "3105                                epilepsy              Mild Side Effects  \n",
              "3106                     high blood pressure          Moderate Side Effects  \n",
              "\n",
              "[3106 rows x 5 columns]>"
            ]
          },
          "metadata": {},
          "execution_count": 6
        }
      ],
      "source": [
        "df.describe"
      ]
    },
    {
      "cell_type": "code",
      "execution_count": 7,
      "metadata": {
        "colab": {
          "base_uri": "https://localhost:8080/",
          "height": 498
        },
        "id": "9FFPQDps7bSn",
        "outputId": "784efa8d-4c09-482b-d4fe-56a256b192f2"
      },
      "outputs": [
        {
          "output_type": "display_data",
          "data": {
            "text/plain": [
              "<Figure size 640x480 with 1 Axes>"
            ],
            "image/png": "[encoded data removed]"
          },
          "metadata": {}
        }
      ],
      "source": [
        "#showcase the 15 most popular drugs\n",
        "\n",
        "df['urlDrugName'].value_counts().head(15).plot(kind='bar')\n",
        "plt.rcParams['figure.figsize']=(10,7)\n",
        "plt.show()"
      ]
    },
    {
      "cell_type": "code",
      "execution_count": 8,
      "metadata": {
        "colab": {
          "base_uri": "https://localhost:8080/",
          "height": 622
        },
        "id": "zeRu5w7I7bSo",
        "outputId": "831287aa-be2b-4e58-f483-961a29221f47"
      },
      "outputs": [
        {
          "output_type": "display_data",
          "data": {
            "text/plain": [
              "<Figure size 1000x700 with 1 Axes>"
            ],
            "image/png": "[encoded data removed]"
          },
          "metadata": {}
        }
      ],
      "source": [
        "# check the ratings of the drugs\n",
        "\n",
        "df['rating'].value_counts().head(15).plot(kind='bar')\n",
        "plt.xlabel('ratings')\n",
        "plt.show()"
      ]
    },
    {
      "cell_type": "code",
      "execution_count": 9,
      "metadata": {
        "colab": {
          "base_uri": "https://localhost:8080/",
          "height": 576
        },
        "id": "d7yi67-g7bSo",
        "outputId": "8ffa86a1-9489-4451-c90d-d3f4400d30e4"
      },
      "outputs": [
        {
          "output_type": "display_data",
          "data": {
            "text/plain": [
              "<Figure size 1000x700 with 1 Axes>"
            ],
            "image/png": "[encoded data removed]"
          },
          "metadata": {}
        }
      ],
      "source": [
        "# check the effectiveness of the drugs\n",
        "\n",
        "df['effectiveness'].value_counts().plot(kind='pie')\n",
        "plt.show()"
      ]
    },
    {
      "cell_type": "code",
      "execution_count": 10,
      "metadata": {
        "colab": {
          "base_uri": "https://localhost:8080/",
          "height": 742
        },
        "id": "vVXDhiDc7bSp",
        "outputId": "0c5776fc-bcf9-4035-c6f9-4524113fd296"
      },
      "outputs": [
        {
          "output_type": "display_data",
          "data": {
            "text/plain": [
              "<Figure size 1000x700 with 1 Axes>"
            ],
            "image/png": "[encoded data removed]"
          },
          "metadata": {}
        }
      ],
      "source": [
        "# check the various conditions the medicine cures (top 10) since they are over thousand\n",
        "\n",
        "df['condition'].value_counts().head(15).plot(kind='bar')\n",
        "plt.xlabel('condition')\n",
        "plt.show()"
      ]
    },
    {
      "cell_type": "code",
      "execution_count": 11,
      "metadata": {
        "colab": {
          "base_uri": "https://localhost:8080/",
          "height": 206
        },
        "id": "es5JWLB07bSq",
        "outputId": "38e34d72-d89f-4467-8e48-19b5fa7041ee"
      },
      "outputs": [
        {
          "output_type": "execute_result",
          "data": {
            "text/plain": [
              "        urlDrugName  rating         effectiveness  \\\n",
              "0         enalapril       4      Highly Effective   \n",
              "1  ortho-tri-cyclen       1      Highly Effective   \n",
              "2           ponstel      10      Highly Effective   \n",
              "3          prilosec       3  Marginally Effective   \n",
              "4            lyrica       2  Marginally Effective   \n",
              "\n",
              "                                condition  \n",
              "0  management of congestive heart failure  \n",
              "1                        birth prevention  \n",
              "2                        menstrual cramps  \n",
              "3                             acid reflux  \n",
              "4                            fibromyalgia  "
            ],
            "text/html": [
              "\n",
              "\n",
              "  <div id=\"df-d55a73da-8041-4cd1-a5d8-b16a3bc952e4\">\n",
              "    <div class=\"colab-df-container\">\n",
              "      <div>\n",
              "<style scoped>\n",
              "    .dataframe tbody tr th:only-of-type {\n",
              "        vertical-align: middle;\n",
              "    }\n",
              "\n",
              "    .dataframe tbody tr th {\n",
              "        vertical-align: top;\n",
              "    }\n",
              "\n",
              "    .dataframe thead th {\n",
              "        text-align: right;\n",
              "    }\n",
              "</style>\n",
              "<table border=\"1\" class=\"dataframe\">\n",
              "  <thead>\n",
              "    <tr style=\"text-align: right;\">\n",
              "      <th></th>\n",
              "      <th>urlDrugName</th>\n",
              "      <th>rating</th>\n",
              "      <th>effectiveness</th>\n",
              "      <th>condition</th>\n",
              "    </tr>\n",
              "  </thead>\n",
              "  <tbody>\n",
              "    <tr>\n",
              "      <th>0</th>\n",
              "      <td>enalapril</td>\n",
              "      <td>4</td>\n",
              "      <td>Highly Effective</td>\n",
              "      <td>management of congestive heart failure</td>\n",
              "    </tr>\n",
              "    <tr>\n",
              "      <th>1</th>\n",
              "      <td>ortho-tri-cyclen</td>\n",
              "      <td>1</td>\n",
              "      <td>Highly Effective</td>\n",
              "      <td>birth prevention</td>\n",
              "    </tr>\n",
              "    <tr>\n",
              "      <th>2</th>\n",
              "      <td>ponstel</td>\n",
              "      <td>10</td>\n",
              "      <td>Highly Effective</td>\n",
              "      <td>menstrual cramps</td>\n",
              "    </tr>\n",
              "    <tr>\n",
              "      <th>3</th>\n",
              "      <td>prilosec</td>\n",
              "      <td>3</td>\n",
              "      <td>Marginally Effective</td>\n",
              "      <td>acid reflux</td>\n",
              "    </tr>\n",
              "    <tr>\n",
              "      <th>4</th>\n",
              "      <td>lyrica</td>\n",
              "      <td>2</td>\n",
              "      <td>Marginally Effective</td>\n",
              "      <td>fibromyalgia</td>\n",
              "    </tr>\n",
              "  </tbody>\n",
              "</table>\n",
              "</div>\n",
              "      <button class=\"colab-df-convert\" onclick=\"convertToInteractive('df-d55a73da-8041-4cd1-a5d8-b16a3bc952e4')\"\n",
              "              title=\"Convert this dataframe to an interactive table.\"\n",
              "              style=\"display:none;\">\n",
              "\n",
              "  <svg xmlns=\"http://www.w3.org/2000/svg\" height=\"24px\"viewBox=\"0 0 24 24\"\n",
              "       width=\"24px\">\n",
              "    <path d=\"M0 0h24v24H0V0z\" fill=\"none\"/>\n",
              "    <path d=\"M18.56 5.44l.94 2.06.94-2.06 2.06-.94-2.06-.94-.94-2.06-.94 2.06-2.06.94zm-11 1L8.5 8.5l.94-2.06 2.06-.94-2.06-.94L8.5 2.5l-.94 2.06-2.06.94zm10 10l.94 2.06.94-2.06 2.06-.94-2.06-.94-.94-2.06-.94 2.06-2.06.94z\"/><path d=\"M17.41 7.96l-1.37-1.37c-.4-.4-.92-.59-1.43-.59-.52 0-1.04.2-1.43.59L10.3 9.45l-7.72 7.72c-.78.78-.78 2.05 0 2.83L4 21.41c.39.39.9.59 1.41.59.51 0 1.02-.2 1.41-.59l7.78-7.78 2.81-2.81c.8-.78.8-2.07 0-2.86zM5.41 20L4 18.59l7.72-7.72 1.47 1.35L5.41 20z\"/>\n",
              "  </svg>\n",
              "      </button>\n",
              "\n",
              "\n",
              "\n",
              "    <div id=\"df-6c8e67a8-8289-4fb2-9b92-fd04295532ef\">\n",
              "      <button class=\"colab-df-quickchart\" onclick=\"quickchart('df-6c8e67a8-8289-4fb2-9b92-fd04295532ef')\"\n",
              "              title=\"Suggest charts.\"\n",
              "              style=\"display:none;\">\n",
              "\n",
              "<svg xmlns=\"http://www.w3.org/2000/svg\" height=\"24px\"viewBox=\"0 0 24 24\"\n",
              "     width=\"24px\">\n",
              "    <g>\n",
              "        <path d=\"M19 3H5c-1.1 0-2 .9-2 2v14c0 1.1.9 2 2 2h14c1.1 0 2-.9 2-2V5c0-1.1-.9-2-2-2zM9 17H7v-7h2v7zm4 0h-2V7h2v10zm4 0h-2v-4h2v4z\"/>\n",
              "    </g>\n",
              "</svg>\n",
              "      </button>\n",
              "    </div>\n",
              "\n",
              "<style>\n",
              "  .colab-df-quickchart {\n",
              "    background-color: #E8F0FE;\n",
              "    border: none;\n",
              "    border-radius: 50%;\n",
              "    cursor: pointer;\n",
              "    display: none;\n",
              "    fill: #1967D2;\n",
              "    height: 32px;\n",
              "    padding: 0 0 0 0;\n",
              "    width: 32px;\n",
              "  }\n",
              "\n",
              "  .colab-df-quickchart:hover {\n",
              "    background-color: #E2EBFA;\n",
              "    box-shadow: 0px 1px 2px rgba(60, 64, 67, 0.3), 0px 1px 3px 1px rgba(60, 64, 67, 0.15);\n",
              "    fill: #174EA6;\n",
              "  }\n",
              "\n",
              "  [theme=dark] .colab-df-quickchart {\n",
              "    background-color: #3B4455;\n",
              "    fill: #D2E3FC;\n",
              "  }\n",
              "\n",
              "  [theme=dark] .colab-df-quickchart:hover {\n",
              "    background-color: #434B5C;\n",
              "    box-shadow: 0px 1px 3px 1px rgba(0, 0, 0, 0.15);\n",
              "    filter: drop-shadow(0px 1px 2px rgba(0, 0, 0, 0.3));\n",
              "    fill: #FFFFFF;\n",
              "  }\n",
              "</style>\n",
              "\n",
              "    <script>\n",
              "      async function quickchart(key) {\n",
              "        const containerElement = document.querySelector('#' + key);\n",
              "        const charts = await google.colab.kernel.invokeFunction(\n",
              "            'suggestCharts', [key], {});\n",
              "      }\n",
              "    </script>\n",
              "\n",
              "      <script>\n",
              "\n",
              "function displayQuickchartButton(domScope) {\n",
              "  let quickchartButtonEl =\n",
              "    domScope.querySelector('#df-6c8e67a8-8289-4fb2-9b92-fd04295532ef button.colab-df-quickchart');\n",
              "  quickchartButtonEl.style.display =\n",
              "    google.colab.kernel.accessAllowed ? 'block' : 'none';\n",
              "}\n",
              "\n",
              "        displayQuickchartButton(document);\n",
              "      </script>\n",
              "      <style>\n",
              "    .colab-df-container {\n",
              "      display:flex;\n",
              "      flex-wrap:wrap;\n",
              "      gap: 12px;\n",
              "    }\n",
              "\n",
              "    .colab-df-convert {\n",
              "      background-color: #E8F0FE;\n",
              "      border: none;\n",
              "      border-radius: 50%;\n",
              "      cursor: pointer;\n",
              "      display: none;\n",
              "      fill: #1967D2;\n",
              "      height: 32px;\n",
              "      padding: 0 0 0 0;\n",
              "      width: 32px;\n",
              "    }\n",
              "\n",
              "    .colab-df-convert:hover {\n",
              "      background-color: #E2EBFA;\n",
              "      box-shadow: 0px 1px 2px rgba(60, 64, 67, 0.3), 0px 1px 3px 1px rgba(60, 64, 67, 0.15);\n",
              "      fill: #174EA6;\n",
              "    }\n",
              "\n",
              "    [theme=dark] .colab-df-convert {\n",
              "      background-color: #3B4455;\n",
              "      fill: #D2E3FC;\n",
              "    }\n",
              "\n",
              "    [theme=dark] .colab-df-convert:hover {\n",
              "      background-color: #434B5C;\n",
              "      box-shadow: 0px 1px 3px 1px rgba(0, 0, 0, 0.15);\n",
              "      filter: drop-shadow(0px 1px 2px rgba(0, 0, 0, 0.3));\n",
              "      fill: #FFFFFF;\n",
              "    }\n",
              "  </style>\n",
              "\n",
              "      <script>\n",
              "        const buttonEl =\n",
              "          document.querySelector('#df-d55a73da-8041-4cd1-a5d8-b16a3bc952e4 button.colab-df-convert');\n",
              "        buttonEl.style.display =\n",
              "          google.colab.kernel.accessAllowed ? 'block' : 'none';\n",
              "\n",
              "        async function convertToInteractive(key) {\n",
              "          const element = document.querySelector('#df-d55a73da-8041-4cd1-a5d8-b16a3bc952e4');\n",
              "          const dataTable =\n",
              "            await google.colab.kernel.invokeFunction('convertToInteractive',\n",
              "                                                     [key], {});\n",
              "          if (!dataTable) return;\n",
              "\n",
              "          const docLinkHtml = 'Like what you see? Visit the ' +\n",
              "            '<a target=\"_blank\" href=https://colab.research.google.com/notebooks/data_table.ipynb>data table notebook</a>'\n",
              "            + ' to learn more about interactive tables.';\n",
              "          element.innerHTML = '';\n",
              "          dataTable['output_type'] = 'display_data';\n",
              "          await google.colab.output.renderOutput(dataTable, element);\n",
              "          const docLink = document.createElement('div');\n",
              "          docLink.innerHTML = docLinkHtml;\n",
              "          element.appendChild(docLink);\n",
              "        }\n",
              "      </script>\n",
              "    </div>\n",
              "  </div>\n"
            ]
          },
          "metadata": {},
          "execution_count": 11
        }
      ],
      "source": [
        "target=df.pop('sideEffects')\n",
        "df.head()"
      ]
    },
    {
      "cell_type": "code",
      "execution_count": 12,
      "metadata": {
        "colab": {
          "base_uri": "https://localhost:8080/",
          "height": 206
        },
        "id": "-tZdfKil7bSr",
        "outputId": "1748819d-aa22-43b5-a004-5e3af2421428"
      },
      "outputs": [
        {
          "output_type": "execute_result",
          "data": {
            "text/plain": [
              "   urlDrugName  rating  effectiveness  condition\n",
              "0            0       4              0          0\n",
              "1            1       1              0          1\n",
              "2            2      10              0          2\n",
              "3            3       3              1          3\n",
              "4            4       2              1          4"
            ],
            "text/html": [
              "\n",
              "\n",
              "  <div id=\"df-45a9fb19-51a4-4f47-bc0a-edb22d89923c\">\n",
              "    <div class=\"colab-df-container\">\n",
              "      <div>\n",
              "<style scoped>\n",
              "    .dataframe tbody tr th:only-of-type {\n",
              "        vertical-align: middle;\n",
              "    }\n",
              "\n",
              "    .dataframe tbody tr th {\n",
              "        vertical-align: top;\n",
              "    }\n",
              "\n",
              "    .dataframe thead th {\n",
              "        text-align: right;\n",
              "    }\n",
              "</style>\n",
              "<table border=\"1\" class=\"dataframe\">\n",
              "  <thead>\n",
              "    <tr style=\"text-align: right;\">\n",
              "      <th></th>\n",
              "      <th>urlDrugName</th>\n",
              "      <th>rating</th>\n",
              "      <th>effectiveness</th>\n",
              "      <th>condition</th>\n",
              "    </tr>\n",
              "  </thead>\n",
              "  <tbody>\n",
              "    <tr>\n",
              "      <th>0</th>\n",
              "      <td>0</td>\n",
              "      <td>4</td>\n",
              "      <td>0</td>\n",
              "      <td>0</td>\n",
              "    </tr>\n",
              "    <tr>\n",
              "      <th>1</th>\n",
              "      <td>1</td>\n",
              "      <td>1</td>\n",
              "      <td>0</td>\n",
              "      <td>1</td>\n",
              "    </tr>\n",
              "    <tr>\n",
              "      <th>2</th>\n",
              "      <td>2</td>\n",
              "      <td>10</td>\n",
              "      <td>0</td>\n",
              "      <td>2</td>\n",
              "    </tr>\n",
              "    <tr>\n",
              "      <th>3</th>\n",
              "      <td>3</td>\n",
              "      <td>3</td>\n",
              "      <td>1</td>\n",
              "      <td>3</td>\n",
              "    </tr>\n",
              "    <tr>\n",
              "      <th>4</th>\n",
              "      <td>4</td>\n",
              "      <td>2</td>\n",
              "      <td>1</td>\n",
              "      <td>4</td>\n",
              "    </tr>\n",
              "  </tbody>\n",
              "</table>\n",
              "</div>\n",
              "      <button class=\"colab-df-convert\" onclick=\"convertToInteractive('df-45a9fb19-51a4-4f47-bc0a-edb22d89923c')\"\n",
              "              title=\"Convert this dataframe to an interactive table.\"\n",
              "              style=\"display:none;\">\n",
              "\n",
              "  <svg xmlns=\"http://www.w3.org/2000/svg\" height=\"24px\"viewBox=\"0 0 24 24\"\n",
              "       width=\"24px\">\n",
              "    <path d=\"M0 0h24v24H0V0z\" fill=\"none\"/>\n",
              "    <path d=\"M18.56 5.44l.94 2.06.94-2.06 2.06-.94-2.06-.94-.94-2.06-.94 2.06-2.06.94zm-11 1L8.5 8.5l.94-2.06 2.06-.94-2.06-.94L8.5 2.5l-.94 2.06-2.06.94zm10 10l.94 2.06.94-2.06 2.06-.94-2.06-.94-.94-2.06-.94 2.06-2.06.94z\"/><path d=\"M17.41 7.96l-1.37-1.37c-.4-.4-.92-.59-1.43-.59-.52 0-1.04.2-1.43.59L10.3 9.45l-7.72 7.72c-.78.78-.78 2.05 0 2.83L4 21.41c.39.39.9.59 1.41.59.51 0 1.02-.2 1.41-.59l7.78-7.78 2.81-2.81c.8-.78.8-2.07 0-2.86zM5.41 20L4 18.59l7.72-7.72 1.47 1.35L5.41 20z\"/>\n",
              "  </svg>\n",
              "      </button>\n",
              "\n",
              "\n",
              "\n",
              "    <div id=\"df-8c44fb07-0a92-49de-b6f9-cf285c54f22a\">\n",
              "      <button class=\"colab-df-quickchart\" onclick=\"quickchart('df-8c44fb07-0a92-49de-b6f9-cf285c54f22a')\"\n",
              "              title=\"Suggest charts.\"\n",
              "              style=\"display:none;\">\n",
              "\n",
              "<svg xmlns=\"http://www.w3.org/2000/svg\" height=\"24px\"viewBox=\"0 0 24 24\"\n",
              "     width=\"24px\">\n",
              "    <g>\n",
              "        <path d=\"M19 3H5c-1.1 0-2 .9-2 2v14c0 1.1.9 2 2 2h14c1.1 0 2-.9 2-2V5c0-1.1-.9-2-2-2zM9 17H7v-7h2v7zm4 0h-2V7h2v10zm4 0h-2v-4h2v4z\"/>\n",
              "    </g>\n",
              "</svg>\n",
              "      </button>\n",
              "    </div>\n",
              "\n",
              "<style>\n",
              "  .colab-df-quickchart {\n",
              "    background-color: #E8F0FE;\n",
              "    border: none;\n",
              "    border-radius: 50%;\n",
              "    cursor: pointer;\n",
              "    display: none;\n",
              "    fill: #1967D2;\n",
              "    height: 32px;\n",
              "    padding: 0 0 0 0;\n",
              "    width: 32px;\n",
              "  }\n",
              "\n",
              "  .colab-df-quickchart:hover {\n",
              "    background-color: #E2EBFA;\n",
              "    box-shadow: 0px 1px 2px rgba(60, 64, 67, 0.3), 0px 1px 3px 1px rgba(60, 64, 67, 0.15);\n",
              "    fill: #174EA6;\n",
              "  }\n",
              "\n",
              "  [theme=dark] .colab-df-quickchart {\n",
              "    background-color: #3B4455;\n",
              "    fill: #D2E3FC;\n",
              "  }\n",
              "\n",
              "  [theme=dark] .colab-df-quickchart:hover {\n",
              "    background-color: #434B5C;\n",
              "    box-shadow: 0px 1px 3px 1px rgba(0, 0, 0, 0.15);\n",
              "    filter: drop-shadow(0px 1px 2px rgba(0, 0, 0, 0.3));\n",
              "    fill: #FFFFFF;\n",
              "  }\n",
              "</style>\n",
              "\n",
              "    <script>\n",
              "      async function quickchart(key) {\n",
              "        const containerElement = document.querySelector('#' + key);\n",
              "        const charts = await google.colab.kernel.invokeFunction(\n",
              "            'suggestCharts', [key], {});\n",
              "      }\n",
              "    </script>\n",
              "\n",
              "      <script>\n",
              "\n",
              "function displayQuickchartButton(domScope) {\n",
              "  let quickchartButtonEl =\n",
              "    domScope.querySelector('#df-8c44fb07-0a92-49de-b6f9-cf285c54f22a button.colab-df-quickchart');\n",
              "  quickchartButtonEl.style.display =\n",
              "    google.colab.kernel.accessAllowed ? 'block' : 'none';\n",
              "}\n",
              "\n",
              "        displayQuickchartButton(document);\n",
              "      </script>\n",
              "      <style>\n",
              "    .colab-df-container {\n",
              "      display:flex;\n",
              "      flex-wrap:wrap;\n",
              "      gap: 12px;\n",
              "    }\n",
              "\n",
              "    .colab-df-convert {\n",
              "      background-color: #E8F0FE;\n",
              "      border: none;\n",
              "      border-radius: 50%;\n",
              "      cursor: pointer;\n",
              "      display: none;\n",
              "      fill: #1967D2;\n",
              "      height: 32px;\n",
              "      padding: 0 0 0 0;\n",
              "      width: 32px;\n",
              "    }\n",
              "\n",
              "    .colab-df-convert:hover {\n",
              "      background-color: #E2EBFA;\n",
              "      box-shadow: 0px 1px 2px rgba(60, 64, 67, 0.3), 0px 1px 3px 1px rgba(60, 64, 67, 0.15);\n",
              "      fill: #174EA6;\n",
              "    }\n",
              "\n",
              "    [theme=dark] .colab-df-convert {\n",
              "      background-color: #3B4455;\n",
              "      fill: #D2E3FC;\n",
              "    }\n",
              "\n",
              "    [theme=dark] .colab-df-convert:hover {\n",
              "      background-color: #434B5C;\n",
              "      box-shadow: 0px 1px 3px 1px rgba(0, 0, 0, 0.15);\n",
              "      filter: drop-shadow(0px 1px 2px rgba(0, 0, 0, 0.3));\n",
              "      fill: #FFFFFF;\n",
              "    }\n",
              "  </style>\n",
              "\n",
              "      <script>\n",
              "        const buttonEl =\n",
              "          document.querySelector('#df-45a9fb19-51a4-4f47-bc0a-edb22d89923c button.colab-df-convert');\n",
              "        buttonEl.style.display =\n",
              "          google.colab.kernel.accessAllowed ? 'block' : 'none';\n",
              "\n",
              "        async function convertToInteractive(key) {\n",
              "          const element = document.querySelector('#df-45a9fb19-51a4-4f47-bc0a-edb22d89923c');\n",
              "          const dataTable =\n",
              "            await google.colab.kernel.invokeFunction('convertToInteractive',\n",
              "                                                     [key], {});\n",
              "          if (!dataTable) return;\n",
              "\n",
              "          const docLinkHtml = 'Like what you see? Visit the ' +\n",
              "            '<a target=\"_blank\" href=https://colab.research.google.com/notebooks/data_table.ipynb>data table notebook</a>'\n",
              "            + ' to learn more about interactive tables.';\n",
              "          element.innerHTML = '';\n",
              "          dataTable['output_type'] = 'display_data';\n",
              "          await google.colab.output.renderOutput(dataTable, element);\n",
              "          const docLink = document.createElement('div');\n",
              "          docLink.innerHTML = docLinkHtml;\n",
              "          element.appendChild(docLink);\n",
              "        }\n",
              "      </script>\n",
              "    </div>\n",
              "  </div>\n"
            ]
          },
          "metadata": {},
          "execution_count": 12
        }
      ],
      "source": [
        "#let convert categorical data to numeric\n",
        "\n",
        "cols=['urlDrugName','effectiveness','condition']\n",
        "for x in cols:\n",
        "    df[x]=pd.factorize(df[x])[0]\n",
        "\n",
        "target=pd.factorize(target)[0]\n",
        "df.head()"
      ]
    },
    {
      "cell_type": "code",
      "execution_count": 13,
      "metadata": {
        "colab": {
          "base_uri": "https://localhost:8080/"
        },
        "id": "9mnPD1hp7bSs",
        "outputId": "d5317dad-1378-41e3-aed4-688b7de67a0b"
      },
      "outputs": [
        {
          "output_type": "execute_result",
          "data": {
            "text/plain": [
              "array([[-1.21280119, -1.02435755, -1.0466628 , -0.94250417],\n",
              "       [-1.20431494, -2.04608348, -1.0466628 , -0.94016719],\n",
              "       [-1.1958287 ,  1.01909431, -1.0466628 , -0.93783021],\n",
              "       ...,\n",
              "       [ 0.35715464, -1.70550817, -0.41208645,  2.38769227],\n",
              "       [ 3.03880891,  0.33794369,  0.85706626, -0.67141449],\n",
              "       [ 1.16334817, -1.02435755,  1.49164261, -0.74152389]])"
            ]
          },
          "metadata": {},
          "execution_count": 13
        }
      ],
      "source": [
        "# scaling the data before modelling\n",
        "\n",
        "scaler=StandardScaler()\n",
        "df=scaler.fit_transform(df)\n",
        "df"
      ]
    },
    {
      "cell_type": "markdown",
      "metadata": {
        "id": "b9PrLUV17bSs"
      },
      "source": [
        "# Split data"
      ]
    },
    {
      "cell_type": "code",
      "execution_count": 14,
      "metadata": {
        "id": "A57CaLMW7bSt"
      },
      "outputs": [],
      "source": [
        "x_train,x_test,y_train,y_test = train_test_split(df,target, test_size=.3)"
      ]
    },
    {
      "cell_type": "markdown",
      "metadata": {
        "id": "mLLMuElq7bSu"
      },
      "source": [
        "# using SVM"
      ]
    },
    {
      "cell_type": "code",
      "execution_count": 15,
      "metadata": {
        "colab": {
          "base_uri": "https://localhost:8080/"
        },
        "id": "liChacpI7bSu",
        "outputId": "b39b324d-9d99-4f87-8050-51f873f813e3"
      },
      "outputs": [
        {
          "output_type": "stream",
          "name": "stdout",
          "text": [
            "              precision    recall  f1-score   support\n",
            "\n",
            "           0       0.43      0.61      0.51       291\n",
            "           1       0.37      0.50      0.42       104\n",
            "           2       0.58      0.50      0.54       279\n",
            "           3       0.54      0.11      0.18        65\n",
            "           4       0.42      0.27      0.33       193\n",
            "\n",
            "    accuracy                           0.46       932\n",
            "   macro avg       0.47      0.40      0.39       932\n",
            "weighted avg       0.47      0.46      0.45       932\n",
            "\n"
          ]
        }
      ],
      "source": [
        "#using SVM\n",
        "\n",
        "svm_clf=SVC().fit(x_train,y_train)\n",
        "\n",
        "svm_pred=svm_clf.predict(x_test)\n",
        "\n",
        "print(classification_report(y_test,svm_pred))"
      ]
    },
    {
      "cell_type": "markdown",
      "metadata": {
        "id": "yJYoz6jw7bSu"
      },
      "source": [
        "\n",
        "# using random forest"
      ]
    },
    {
      "cell_type": "code",
      "execution_count": 16,
      "metadata": {
        "colab": {
          "base_uri": "https://localhost:8080/"
        },
        "id": "7ZtcIG9Z7bSv",
        "outputId": "4af41d7f-c93f-48ba-b4a0-0c7798aed337"
      },
      "outputs": [
        {
          "output_type": "stream",
          "name": "stdout",
          "text": [
            "              precision    recall  f1-score   support\n",
            "\n",
            "           0       0.43      0.54      0.48       291\n",
            "           1       0.27      0.28      0.27       104\n",
            "           2       0.57      0.49      0.53       279\n",
            "           3       0.44      0.29      0.35        65\n",
            "           4       0.40      0.37      0.39       193\n",
            "\n",
            "    accuracy                           0.44       932\n",
            "   macro avg       0.42      0.39      0.40       932\n",
            "weighted avg       0.45      0.44      0.44       932\n",
            "\n"
          ]
        }
      ],
      "source": [
        "#using random forest\n",
        "\n",
        "\n",
        "rf_clf=RandomForestClassifier().fit(x_train,y_train)\n",
        "\n",
        "rf_pred=rf_clf.predict(x_test)\n",
        "\n",
        "print(classification_report(y_test,rf_pred))"
      ]
    },
    {
      "cell_type": "markdown",
      "metadata": {
        "id": "cOP6e7UH7bSv"
      },
      "source": [
        "# using decision tree"
      ]
    },
    {
      "cell_type": "code",
      "execution_count": 17,
      "metadata": {
        "id": "GozAldMA7bSv"
      },
      "outputs": [],
      "source": [
        "# using decision tree\n",
        "\n",
        "from sklearn import tree\n",
        "clf = tree.DecisionTreeClassifier()\n",
        "clf = clf.fit(x_train,y_train)\n",
        "prediction=clf.predict(x_test)"
      ]
    },
    {
      "cell_type": "code",
      "execution_count": 18,
      "metadata": {
        "colab": {
          "base_uri": "https://localhost:8080/"
        },
        "id": "KqJZ0qOd7bSw",
        "outputId": "69b7cc1e-929c-49c8-93b7-ade0097e11a2"
      },
      "outputs": [
        {
          "output_type": "execute_result",
          "data": {
            "text/plain": [
              "array([1, 0, 4, 2, 2, 2, 3, 2, 0, 2, 2, 3, 1, 0, 2, 3, 2, 1, 0, 0, 0, 4,\n",
              "       0, 3, 2, 2, 4, 0, 0, 2, 2, 3, 0, 1, 4, 4, 3, 2, 2, 4, 2, 1, 0, 2,\n",
              "       2, 0, 4, 0, 0, 0, 4, 0, 2, 1, 0, 2, 0, 2, 0, 1, 1, 2, 4, 2, 1, 2,\n",
              "       2, 0, 2, 4, 4, 1, 4, 4, 0, 2, 1, 1, 0, 0, 0, 2, 2, 2, 2, 2, 0, 4,\n",
              "       2, 2, 0, 0, 4, 0, 0, 0, 0, 0, 0, 2, 0, 2, 3, 2, 4, 2, 0, 0, 1, 4,\n",
              "       0, 0, 2, 4, 2, 0, 2, 2, 0, 2, 4, 1, 0, 2, 4, 3, 1, 0, 0, 0, 4, 4,\n",
              "       0, 0, 1, 2, 0, 4, 2, 0, 3, 0, 3, 0, 2, 1, 2, 0, 4, 0, 4, 1, 2, 0,\n",
              "       2, 4, 2, 0, 0, 0, 0, 0, 0, 0, 4, 0, 1, 0, 0, 0, 0, 0, 2, 2, 0, 2,\n",
              "       2, 0, 1, 2, 0, 0, 0, 4, 4, 1, 4, 4, 0, 2, 0, 2, 4, 2, 0, 4, 2, 1,\n",
              "       2, 0, 2, 2, 4, 4, 1, 4, 0, 2, 1, 0, 4, 1, 2, 0, 2, 2, 1, 0, 2, 0,\n",
              "       0, 2, 0, 1, 2, 2, 4, 0, 4, 0, 0, 0, 0, 1, 1, 1, 4, 4, 1, 1, 1, 0,\n",
              "       2, 0, 4, 1, 3, 1, 2, 4, 0, 0, 0, 0, 2, 1, 4, 0, 0, 2, 2, 0, 2, 4,\n",
              "       2, 0, 1, 3, 0, 4, 2, 2, 1, 4, 2, 0, 4, 1, 2, 2, 4, 0, 4, 1, 0, 2,\n",
              "       4, 3, 2, 0, 0, 0, 1, 0, 2, 0, 0, 4, 2, 4, 0, 4, 3, 4, 2, 3, 0, 1,\n",
              "       1, 3, 1, 4, 4, 4, 4, 2, 0, 0, 0, 1, 0, 0, 0, 2, 0, 0, 1, 4, 2, 1,\n",
              "       0, 0, 0, 4, 4, 2, 1, 0, 2, 4, 0, 2, 0, 0, 4, 0, 4, 0, 0, 4, 0, 4,\n",
              "       0, 4, 2, 1, 4, 0, 0, 4, 0, 0, 3, 0, 2, 2, 0, 0, 0, 1, 4, 0, 2, 4,\n",
              "       4, 0, 4, 2, 4, 0, 2, 0, 2, 2, 2, 0, 0, 2, 2, 2, 2, 1, 0, 2, 1, 0,\n",
              "       0, 0, 2, 4, 1, 0, 2, 3, 2, 4, 0, 0, 4, 0, 0, 0, 0, 4, 4, 4, 0, 2,\n",
              "       1, 2, 2, 0, 2, 1, 0, 0, 2, 4, 1, 4, 0, 0, 0, 1, 4, 0, 4, 4, 0, 0,\n",
              "       2, 4, 4, 3, 0, 2, 2, 1, 0, 1, 0, 1, 1, 1, 2, 2, 1, 2, 0, 1, 1, 0,\n",
              "       1, 0, 1, 4, 2, 0, 0, 0, 4, 1, 0, 2, 4, 1, 4, 1, 2, 0, 2, 4, 2, 1,\n",
              "       0, 0, 0, 0, 3, 4, 1, 0, 1, 4, 0, 0, 1, 0, 2, 0, 2, 0, 2, 0, 0, 2,\n",
              "       2, 4, 4, 3, 0, 3, 4, 0, 3, 2, 2, 1, 2, 0, 0, 4, 4, 0, 0, 4, 3, 0,\n",
              "       0, 1, 2, 0, 4, 2, 1, 0, 0, 0, 0, 4, 4, 2, 4, 0, 0, 0, 0, 3, 0, 0,\n",
              "       0, 0, 3, 4, 2, 0, 4, 0, 4, 0, 4, 0, 0, 0, 0, 2, 1, 4, 0, 2, 0, 4,\n",
              "       4, 4, 2, 0, 0, 3, 0, 4, 4, 0, 0, 0, 0, 2, 4, 0, 1, 4, 1, 0, 2, 4,\n",
              "       2, 0, 2, 0, 1, 0, 0, 2, 0, 0, 2, 0, 4, 4, 2, 4, 4, 0, 0, 0, 2, 2,\n",
              "       0, 0, 2, 1, 4, 1, 0, 0, 0, 0, 2, 0, 4, 4, 4, 2, 4, 2, 0, 2, 4, 0,\n",
              "       4, 0, 3, 4, 0, 2, 1, 2, 2, 0, 0, 2, 4, 0, 0, 0, 4, 4, 0, 0, 3, 0,\n",
              "       4, 4, 1, 2, 2, 1, 2, 2, 1, 0, 0, 0, 0, 1, 4, 2, 2, 4, 0, 0, 4, 2,\n",
              "       2, 0, 2, 0, 2, 2, 3, 0, 2, 2, 4, 0, 0, 0, 4, 0, 2, 2, 2, 2, 4, 1,\n",
              "       0, 2, 2, 3, 2, 0, 2, 3, 0, 2, 0, 0, 0, 3, 0, 2, 2, 1, 1, 0, 2, 0,\n",
              "       2, 0, 2, 0, 2, 0, 2, 1, 0, 0, 3, 4, 1, 4, 0, 0, 0, 0, 0, 2, 2, 0,\n",
              "       1, 1, 2, 2, 4, 2, 2, 0, 1, 0, 3, 4, 3, 4, 2, 4, 0, 0, 1, 4, 2, 0,\n",
              "       2, 4, 1, 2, 0, 0, 0, 2, 0, 0, 2, 2, 2, 0, 2, 4, 2, 2, 1, 0, 4, 2,\n",
              "       0, 0, 4, 0, 0, 0, 1, 0, 4, 2, 2, 0, 1, 2, 0, 0, 4, 2, 2, 2, 2, 0,\n",
              "       0, 0, 4, 0, 2, 0, 2, 4, 2, 4, 0, 1, 0, 4, 2, 0, 4, 4, 2, 0, 2, 2,\n",
              "       4, 0, 2, 1, 2, 4, 2, 0, 0, 0, 4, 0, 4, 2, 2, 1, 0, 1, 0, 1, 0, 0,\n",
              "       3, 0, 2, 4, 0, 2, 0, 0, 0, 1, 0, 2, 2, 0, 1, 2, 0, 4, 2, 4, 3, 1,\n",
              "       0, 4, 4, 0, 0, 1, 2, 0, 0, 0, 4, 4, 0, 0, 4, 4, 0, 0, 0, 2, 0, 2,\n",
              "       0, 0, 4, 4, 4, 2, 2, 0, 2, 0, 0, 2, 2, 1, 2, 0, 4, 2, 0, 2, 4, 0,\n",
              "       2, 0, 2, 3, 4, 2, 1, 1])"
            ]
          },
          "metadata": {},
          "execution_count": 18
        }
      ],
      "source": [
        "prediction"
      ]
    },
    {
      "cell_type": "code",
      "execution_count": 18,
      "metadata": {
        "id": "UpPv2Nhw7bSw"
      },
      "outputs": [],
      "source": []
    },
    {
      "cell_type": "code",
      "execution_count": 19,
      "metadata": {
        "colab": {
          "base_uri": "https://localhost:8080/",
          "height": 871
        },
        "id": "BDG6n6qt7bSw",
        "outputId": "cca86f07-adc3-4f94-e6f6-e5a86a949b60"
      },
      "outputs": [
        {
          "output_type": "execute_result",
          "data": {
            "text/plain": [
              "[Text(0.5, 0.9166666666666666, 'x[2] <= 2.45\\ngini = 0.667\\nsamples = 150\\nvalue = [50, 50, 50]'),\n",
              " Text(0.4230769230769231, 0.75, 'gini = 0.0\\nsamples = 50\\nvalue = [50, 0, 0]'),\n",
              " Text(0.5769230769230769, 0.75, 'x[3] <= 1.75\\ngini = 0.5\\nsamples = 100\\nvalue = [0, 50, 50]'),\n",
              " Text(0.3076923076923077, 0.5833333333333334, 'x[2] <= 4.95\\ngini = 0.168\\nsamples = 54\\nvalue = [0, 49, 5]'),\n",
              " Text(0.15384615384615385, 0.4166666666666667, 'x[3] <= 1.65\\ngini = 0.041\\nsamples = 48\\nvalue = [0, 47, 1]'),\n",
              " Text(0.07692307692307693, 0.25, 'gini = 0.0\\nsamples = 47\\nvalue = [0, 47, 0]'),\n",
              " Text(0.23076923076923078, 0.25, 'gini = 0.0\\nsamples = 1\\nvalue = [0, 0, 1]'),\n",
              " Text(0.46153846153846156, 0.4166666666666667, 'x[3] <= 1.55\\ngini = 0.444\\nsamples = 6\\nvalue = [0, 2, 4]'),\n",
              " Text(0.38461538461538464, 0.25, 'gini = 0.0\\nsamples = 3\\nvalue = [0, 0, 3]'),\n",
              " Text(0.5384615384615384, 0.25, 'x[0] <= 6.95\\ngini = 0.444\\nsamples = 3\\nvalue = [0, 2, 1]'),\n",
              " Text(0.46153846153846156, 0.08333333333333333, 'gini = 0.0\\nsamples = 2\\nvalue = [0, 2, 0]'),\n",
              " Text(0.6153846153846154, 0.08333333333333333, 'gini = 0.0\\nsamples = 1\\nvalue = [0, 0, 1]'),\n",
              " Text(0.8461538461538461, 0.5833333333333334, 'x[2] <= 4.85\\ngini = 0.043\\nsamples = 46\\nvalue = [0, 1, 45]'),\n",
              " Text(0.7692307692307693, 0.4166666666666667, 'x[0] <= 5.95\\ngini = 0.444\\nsamples = 3\\nvalue = [0, 1, 2]'),\n",
              " Text(0.6923076923076923, 0.25, 'gini = 0.0\\nsamples = 1\\nvalue = [0, 1, 0]'),\n",
              " Text(0.8461538461538461, 0.25, 'gini = 0.0\\nsamples = 2\\nvalue = [0, 0, 2]'),\n",
              " Text(0.9230769230769231, 0.4166666666666667, 'gini = 0.0\\nsamples = 43\\nvalue = [0, 0, 43]')]"
            ]
          },
          "metadata": {},
          "execution_count": 19
        },
        {
          "output_type": "display_data",
          "data": {
            "text/plain": [
              "<Figure size 1000x700 with 1 Axes>"
            ],
            "image/png": "[encoded data removed]"
          },
          "metadata": {}
        }
      ],
      "source": [
        "from sklearn.datasets import load_iris\n",
        "iris = load_iris()\n",
        "df,target = iris.data, iris.target\n",
        "clf = tree.DecisionTreeClassifier()\n",
        "clf = clf.fit(df, target)\n",
        "tree.plot_tree(clf)"
      ]
    },
    {
      "cell_type": "markdown",
      "metadata": {
        "id": "Grp_o_NY7bSx"
      },
      "source": [
        "# using KNN"
      ]
    },
    {
      "cell_type": "code",
      "execution_count": 20,
      "metadata": {
        "id": "4o1GrHB47bSx"
      },
      "outputs": [],
      "source": [
        "\n",
        "\n",
        "from sklearn.model_selection import train_test_split\n",
        "X_train, X_test, y_train, y_test = train_test_split(df,target)"
      ]
    },
    {
      "cell_type": "code",
      "execution_count": 21,
      "metadata": {
        "id": "Ea2B4Xh87bSx"
      },
      "outputs": [],
      "source": [
        "from sklearn.preprocessing import StandardScaler\n",
        "sc = StandardScaler()\n",
        "X_train = sc.fit_transform(X_train)\n",
        "X_test = sc.transform(X_test)"
      ]
    },
    {
      "cell_type": "code",
      "execution_count": 22,
      "metadata": {
        "colab": {
          "base_uri": "https://localhost:8080/",
          "height": 74
        },
        "id": "E8GDKqOT7bSy",
        "outputId": "6deef253-baf5-4d4b-e2ad-55e75d4accf3"
      },
      "outputs": [
        {
          "output_type": "execute_result",
          "data": {
            "text/plain": [
              "KNeighborsClassifier()"
            ],
            "text/html": [
              "<style>#sk-container-id-1 {color: black;background-color: white;}#sk-container-id-1 pre{padding: 0;}#sk-container-id-1 div.sk-toggleable {background-color: white;}#sk-container-id-1 label.sk-toggleable__label {cursor: pointer;display: block;width: 100%;margin-bottom: 0;padding: 0.3em;box-sizing: border-box;text-align: center;}#sk-container-id-1 label.sk-toggleable__label-arrow:before {content: \"▸\";float: left;margin-right: 0.25em;color: #696969;}#sk-container-id-1 label.sk-toggleable__label-arrow:hover:before {color: black;}#sk-container-id-1 div.sk-estimator:hover label.sk-toggleable__label-arrow:before {color: black;}#sk-container-id-1 div.sk-toggleable__content {max-height: 0;max-width: 0;overflow: hidden;text-align: left;background-color: #f0f8ff;}#sk-container-id-1 div.sk-toggleable__content pre {margin: 0.2em;color: black;border-radius: 0.25em;background-color: #f0f8ff;}#sk-container-id-1 input.sk-toggleable__control:checked~div.sk-toggleable__content {max-height: 200px;max-width: 100%;overflow: auto;}#sk-container-id-1 input.sk-toggleable__control:checked~label.sk-toggleable__label-arrow:before {content: \"▾\";}#sk-container-id-1 div.sk-estimator input.sk-toggleable__control:checked~label.sk-toggleable__label {background-color: #d4ebff;}#sk-container-id-1 div.sk-label input.sk-toggleable__control:checked~label.sk-toggleable__label {background-color: #d4ebff;}#sk-container-id-1 input.sk-hidden--visually {border: 0;clip: rect(1px 1px 1px 1px);clip: rect(1px, 1px, 1px, 1px);height: 1px;margin: -1px;overflow: hidden;padding: 0;position: absolute;width: 1px;}#sk-container-id-1 div.sk-estimator {font-family: monospace;background-color: #f0f8ff;border: 1px dotted black;border-radius: 0.25em;box-sizing: border-box;margin-bottom: 0.5em;}#sk-container-id-1 div.sk-estimator:hover {background-color: #d4ebff;}#sk-container-id-1 div.sk-parallel-item::after {content: \"\";width: 100%;border-bottom: 1px solid gray;flex-grow: 1;}#sk-container-id-1 div.sk-label:hover label.sk-toggleable__label {background-color: #d4ebff;}#sk-container-id-1 div.sk-serial::before {content: \"\";position: absolute;border-left: 1px solid gray;box-sizing: border-box;top: 0;bottom: 0;left: 50%;z-index: 0;}#sk-container-id-1 div.sk-serial {display: flex;flex-direction: column;align-items: center;background-color: white;padding-right: 0.2em;padding-left: 0.2em;position: relative;}#sk-container-id-1 div.sk-item {position: relative;z-index: 1;}#sk-container-id-1 div.sk-parallel {display: flex;align-items: stretch;justify-content: center;background-color: white;position: relative;}#sk-container-id-1 div.sk-item::before, #sk-container-id-1 div.sk-parallel-item::before {content: \"\";position: absolute;border-left: 1px solid gray;box-sizing: border-box;top: 0;bottom: 0;left: 50%;z-index: -1;}#sk-container-id-1 div.sk-parallel-item {display: flex;flex-direction: column;z-index: 1;position: relative;background-color: white;}#sk-container-id-1 div.sk-parallel-item:first-child::after {align-self: flex-end;width: 50%;}#sk-container-id-1 div.sk-parallel-item:last-child::after {align-self: flex-start;width: 50%;}#sk-container-id-1 div.sk-parallel-item:only-child::after {width: 0;}#sk-container-id-1 div.sk-dashed-wrapped {border: 1px dashed gray;margin: 0 0.4em 0.5em 0.4em;box-sizing: border-box;padding-bottom: 0.4em;background-color: white;}#sk-container-id-1 div.sk-label label {font-family: monospace;font-weight: bold;display: inline-block;line-height: 1.2em;}#sk-container-id-1 div.sk-label-container {text-align: center;}#sk-container-id-1 div.sk-container {/* jupyter's `normalize.less` sets `[hidden] { display: none; }` but bootstrap.min.css set `[hidden] { display: none !important; }` so we also need the `!important` here to be able to override the default hidden behavior on the sphinx rendered scikit-learn.org. See: https://github.com/scikit-learn/scikit-learn/issues/21755 */display: inline-block !important;position: relative;}#sk-container-id-1 div.sk-text-repr-fallback {display: none;}</style><div id=\"sk-container-id-1\" class=\"sk-top-container\"><div class=\"sk-text-repr-fallback\"><pre>KNeighborsClassifier()</pre><b>In a Jupyter environment, please rerun this cell to show the HTML representation or trust the notebook. <br />On GitHub, the HTML representation is unable to render, please try loading this page with nbviewer.org.</b></div><div class=\"sk-container\" hidden><div class=\"sk-item\"><div class=\"sk-estimator sk-toggleable\"><input class=\"sk-toggleable__control sk-hidden--visually\" id=\"sk-estimator-id-1\" type=\"checkbox\" checked><label for=\"sk-estimator-id-1\" class=\"sk-toggleable__label sk-toggleable__label-arrow\">KNeighborsClassifier</label><div class=\"sk-toggleable__content\"><pre>KNeighborsClassifier()</pre></div></div></div></div></div>"
            ]
          },
          "metadata": {},
          "execution_count": 22
        }
      ],
      "source": [
        "from sklearn.neighbors import KNeighborsClassifier\n",
        "classifier = KNeighborsClassifier(n_neighbors = 5, metric = 'minkowski', p = 2)\n",
        "classifier.fit(X_train, y_train)"
      ]
    },
    {
      "cell_type": "code",
      "execution_count": 23,
      "metadata": {
        "id": "wDlMkTbg7bSy"
      },
      "outputs": [],
      "source": [
        "y_pred = classifier.predict(X_test)"
      ]
    },
    {
      "cell_type": "code",
      "execution_count": 24,
      "metadata": {
        "colab": {
          "base_uri": "https://localhost:8080/"
        },
        "id": "8FfbuQVL7bSy",
        "outputId": "a4f456cb-8d3a-4f44-8645-5d9e0a956a95"
      },
      "outputs": [
        {
          "output_type": "execute_result",
          "data": {
            "text/plain": [
              "array([2, 2, 2, 1, 1, 0, 2, 1, 2, 2, 2, 1, 2, 1, 0, 0, 0, 0, 1, 0, 2, 1,\n",
              "       1, 2, 2, 0, 0, 1, 1, 1, 2, 1, 0, 0, 1, 1, 0, 1])"
            ]
          },
          "metadata": {},
          "execution_count": 24
        }
      ],
      "source": [
        "y_pred"
      ]
    },
    {
      "cell_type": "code",
      "execution_count": 25,
      "metadata": {
        "colab": {
          "base_uri": "https://localhost:8080/"
        },
        "id": "9UJtvQUg7bSy",
        "outputId": "14bb2c38-e594-4a95-846b-a2600c6d81b8"
      },
      "outputs": [
        {
          "output_type": "execute_result",
          "data": {
            "text/plain": [
              "array([2, 2, 2, 1, 1, 0, 2, 1, 2, 2, 2, 1, 2, 1, 0, 0, 0, 0, 2, 0, 1, 1,\n",
              "       1, 2, 2, 0, 0, 1, 1, 1, 2, 1, 0, 0, 1, 1, 0, 1])"
            ]
          },
          "metadata": {},
          "execution_count": 25
        }
      ],
      "source": [
        "y_test"
      ]
    },
    {
      "cell_type": "code",
      "execution_count": 26,
      "metadata": {
        "colab": {
          "base_uri": "https://localhost:8080/"
        },
        "id": "vbR_RuAn7bSz",
        "outputId": "4f137bbf-3894-46c1-8682-beb0fcb630ae"
      },
      "outputs": [
        {
          "output_type": "execute_result",
          "data": {
            "text/plain": [
              "0.9473684210526315"
            ]
          },
          "metadata": {},
          "execution_count": 26
        }
      ],
      "source": [
        "from sklearn.metrics import accuracy_score\n",
        "acc = accuracy_score(y_test,y_pred)\n",
        "acc"
      ]
    }
  ],
  "metadata": {
    "kernelspec": {
      "display_name": "Python 3",
      "language": "python",
      "name": "python3"
    },
    "language_info": {
      "codemirror_mode": {
        "name": "ipython",
        "version": 3
      },
      "file_extension": ".py",
      "mimetype": "text/x-python",
      "name": "python",
      "nbconvert_exporter": "python",
      "pygments_lexer": "ipython3",
      "version": "3.8.5"
    },
    "colab": {
      "provenance": [],
      "include_colab_link": true
    }
  },
  "nbformat": 4,
  "nbformat_minor": 0
}